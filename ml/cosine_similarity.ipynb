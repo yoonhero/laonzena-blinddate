{
 "cells": [
  {
   "cell_type": "code",
   "execution_count": 2,
   "metadata": {},
   "outputs": [],
   "source": [
    "# 0. Cosine Similarity\n",
    "# 1. One Hot Encoding??\n",
    "# 2. Transformer??"
   ]
  },
  {
   "cell_type": "markdown",
   "metadata": {},
   "source": [
    "# 0. Cosine Similarity\n",
    "\n",
    "$similarity=cos(Θ)=\\frac{A⋅B}{||A||\\ ||B||}=\\frac{\\sum_{i=1}^{n}{A_{i}×B_{i}}}{\\sqrt{\\sum_{i=1}^{n}(A_{i})^2}×\\sqrt{\\sum_{i=1}^{n}(B_{i})^2}}$"
   ]
  },
  {
   "cell_type": "code",
   "execution_count": 44,
   "metadata": {},
   "outputs": [],
   "source": [
    "\n",
    "answers = [[\"남자\", \"여자\"],[\"17살\", \"18살\"],[\"INFP\", \"ENFP\", 'ESFJ', \"ISFJ\", \"ISFP\", \"ESFP\", \"INTP\",\"INFJ\", \"ENFJ\", \"ENTP\", \"ESTJ\", \"ISTJ\", \"INTJ\", \"ISTP\", \"ESTP\", \"ENTJ\"],\n",
    "                [\"A\", \"B\", \"AB\", \"O\"],\n",
    "                [\"한식\", \"양식\", \"중식\", \"일식\"],\n",
    "                 [\n",
    "        \"빨강\", \"주황\", \"노랑\", \"초록\", \"파랑\", \"보라\", \"흰색\", \"검은색\"]]"
   ]
  },
  {
   "cell_type": "code",
   "execution_count": 45,
   "metadata": {},
   "outputs": [],
   "source": [
    "import pandas as pd\n",
    "\n",
    "data = pd.read_csv(\"./sample_data.csv\")"
   ]
  },
  {
   "cell_type": "code",
   "execution_count": 46,
   "metadata": {},
   "outputs": [
    {
     "data": {
      "text/html": [
       "<div>\n",
       "<style scoped>\n",
       "    .dataframe tbody tr th:only-of-type {\n",
       "        vertical-align: middle;\n",
       "    }\n",
       "\n",
       "    .dataframe tbody tr th {\n",
       "        vertical-align: top;\n",
       "    }\n",
       "\n",
       "    .dataframe thead th {\n",
       "        text-align: right;\n",
       "    }\n",
       "</style>\n",
       "<table border=\"1\" class=\"dataframe\">\n",
       "  <thead>\n",
       "    <tr style=\"text-align: right;\">\n",
       "      <th></th>\n",
       "      <th>schoolNumber</th>\n",
       "      <th>gender</th>\n",
       "      <th>age</th>\n",
       "      <th>mbti</th>\n",
       "      <th>bloodtype</th>\n",
       "      <th>favoriteFood</th>\n",
       "      <th>favoriteColor</th>\n",
       "    </tr>\n",
       "  </thead>\n",
       "  <tbody>\n",
       "    <tr>\n",
       "      <th>0</th>\n",
       "      <td>10214</td>\n",
       "      <td>남자</td>\n",
       "      <td>17살</td>\n",
       "      <td>ENFJ</td>\n",
       "      <td>B</td>\n",
       "      <td>한식</td>\n",
       "      <td>빨강</td>\n",
       "    </tr>\n",
       "    <tr>\n",
       "      <th>1</th>\n",
       "      <td>10215</td>\n",
       "      <td>남자</td>\n",
       "      <td>17살</td>\n",
       "      <td>INFJ</td>\n",
       "      <td>A</td>\n",
       "      <td>중식</td>\n",
       "      <td>파랑</td>\n",
       "    </tr>\n",
       "    <tr>\n",
       "      <th>2</th>\n",
       "      <td>10216</td>\n",
       "      <td>여자</td>\n",
       "      <td>18살</td>\n",
       "      <td>ENFP</td>\n",
       "      <td>B</td>\n",
       "      <td>일식</td>\n",
       "      <td>빨강</td>\n",
       "    </tr>\n",
       "    <tr>\n",
       "      <th>3</th>\n",
       "      <td>10217</td>\n",
       "      <td>남자</td>\n",
       "      <td>18살</td>\n",
       "      <td>ENTJ</td>\n",
       "      <td>AB</td>\n",
       "      <td>한식</td>\n",
       "      <td>초록</td>\n",
       "    </tr>\n",
       "    <tr>\n",
       "      <th>4</th>\n",
       "      <td>10218</td>\n",
       "      <td>여자</td>\n",
       "      <td>17살</td>\n",
       "      <td>ENFJ</td>\n",
       "      <td>O</td>\n",
       "      <td>양식</td>\n",
       "      <td>파랑</td>\n",
       "    </tr>\n",
       "  </tbody>\n",
       "</table>\n",
       "</div>"
      ],
      "text/plain": [
       "   schoolNumber gender   age  mbti  bloodtype  favoriteFood  favoriteColor\n",
       "0         10214     남자   17살  ENFJ          B            한식             빨강\n",
       "1         10215     남자   17살  INFJ          A            중식             파랑\n",
       "2         10216     여자   18살  ENFP          B            일식             빨강\n",
       "3         10217     남자   18살  ENTJ         AB            한식             초록\n",
       "4         10218     여자   17살  ENFJ          O            양식             파랑"
      ]
     },
     "execution_count": 46,
     "metadata": {},
     "output_type": "execute_result"
    }
   ],
   "source": [
    "data.head()"
   ]
  },
  {
   "cell_type": "code",
   "execution_count": 50,
   "metadata": {},
   "outputs": [],
   "source": [
    "def get_index(df):\n",
    "    indexes = []\n",
    "    for i, answer in enumerate(answers):\n",
    "        no_blank_ele = df[i].strip()\n",
    "        temp_i = answer.index(no_blank_ele)        \n",
    "        indexes.append(temp_i)\n",
    "\n",
    "    return indexes"
   ]
  },
  {
   "cell_type": "code",
   "execution_count": 82,
   "metadata": {},
   "outputs": [],
   "source": [
    "labels = data.iloc[:, 0]\n",
    "index_dataframe = data.iloc[:, 1:].apply(get_index, axis=1)"
   ]
  },
  {
   "cell_type": "code",
   "execution_count": 54,
   "metadata": {},
   "outputs": [],
   "source": [
    "import numpy as np\n",
    "from numpy import dot\n",
    "from numpy.linalg import norm\n",
    "\n",
    "def cos_sim(A, B):\n",
    "  return dot(A, B)/(norm(A)*norm(B))"
   ]
  },
  {
   "cell_type": "code",
   "execution_count": 127,
   "metadata": {},
   "outputs": [],
   "source": [
    "cosine_similarity_matrix = np.array([[cos_sim(np.array(index_dataframe[a]), np.array(index_dataframe[b])) for a in range(len(index_dataframe))] for b in range(len(index_dataframe))])"
   ]
  },
  {
   "cell_type": "code",
   "execution_count": 128,
   "metadata": {},
   "outputs": [
    {
     "data": {
      "text/plain": [
       "array([[1.        , 0.83619353, 0.30960941, 0.97882308, 0.871159  ],\n",
       "       [0.83619353, 1.        , 0.43405737, 0.91109228, 0.93387012],\n",
       "       [0.30960941, 0.43405737, 1.        , 0.32292516, 0.43611285],\n",
       "       [0.97882308, 0.91109228, 0.32292516, 1.        , 0.93574915],\n",
       "       [0.871159  , 0.93387012, 0.43611285, 0.93574915, 1.        ]])"
      ]
     },
     "execution_count": 128,
     "metadata": {},
     "output_type": "execute_result"
    }
   ],
   "source": [
    "cosine_similarity_matrix"
   ]
  },
  {
   "cell_type": "code",
   "execution_count": 130,
   "metadata": {},
   "outputs": [],
   "source": [
    "def visualize_cosine_similarity(matrix):\n",
    "    h, w = matrix.shape\n",
    "\n",
    "    for h_ in range(h):\n",
    "        for w_ in range(w):\n",
    "            print(matrix[h_][w_], end=\" \")\n",
    "        print(\"\\n\")"
   ]
  },
  {
   "cell_type": "code",
   "execution_count": 132,
   "metadata": {},
   "outputs": [
    {
     "name": "stdout",
     "output_type": "stream",
     "text": [
      "1.0000000000000002 0.8361935308041741 0.3096094122692017 0.9788230815833022 0.8711590010278556 \n",
      "\n",
      "0.8361935308041741 1.0 0.4340573661412156 0.9110922782740798 0.9338701161577686 \n",
      "\n",
      "0.3096094122692017 0.4340573661412156 1.0000000000000002 0.3229251563163078 0.43611285347218537 \n",
      "\n",
      "0.9788230815833022 0.9110922782740798 0.3229251563163078 1.0 0.9357491467186196 \n",
      "\n",
      "0.8711590010278556 0.9338701161577686 0.43611285347218537 0.9357491467186196 1.0 \n",
      "\n"
     ]
    }
   ],
   "source": [
    "visualize_cosine_similarity(cosine_similarity_matrix)"
   ]
  },
  {
   "cell_type": "code",
   "execution_count": 133,
   "metadata": {},
   "outputs": [
    {
     "data": {
      "text/plain": [
       "0    10214\n",
       "1    10215\n",
       "2    10216\n",
       "3    10217\n",
       "4    10218\n",
       "dtype: int64"
      ]
     },
     "execution_count": 133,
     "metadata": {},
     "output_type": "execute_result"
    }
   ],
   "source": [
    "\n",
    "labels.rename(None, inplace=True)"
   ]
  },
  {
   "cell_type": "code",
   "execution_count": 134,
   "metadata": {},
   "outputs": [],
   "source": [
    "cosine_dataframe = pd.DataFrame(cosine_similarity_matrix, columns=labels, index=labels)"
   ]
  },
  {
   "cell_type": "code",
   "execution_count": 135,
   "metadata": {},
   "outputs": [
    {
     "data": {
      "text/html": [
       "<div>\n",
       "<style scoped>\n",
       "    .dataframe tbody tr th:only-of-type {\n",
       "        vertical-align: middle;\n",
       "    }\n",
       "\n",
       "    .dataframe tbody tr th {\n",
       "        vertical-align: top;\n",
       "    }\n",
       "\n",
       "    .dataframe thead th {\n",
       "        text-align: right;\n",
       "    }\n",
       "</style>\n",
       "<table border=\"1\" class=\"dataframe\">\n",
       "  <thead>\n",
       "    <tr style=\"text-align: right;\">\n",
       "      <th></th>\n",
       "      <th>10214</th>\n",
       "      <th>10215</th>\n",
       "      <th>10216</th>\n",
       "      <th>10217</th>\n",
       "      <th>10218</th>\n",
       "    </tr>\n",
       "  </thead>\n",
       "  <tbody>\n",
       "    <tr>\n",
       "      <th>10214</th>\n",
       "      <td>1.000000</td>\n",
       "      <td>0.836194</td>\n",
       "      <td>0.309609</td>\n",
       "      <td>0.978823</td>\n",
       "      <td>0.871159</td>\n",
       "    </tr>\n",
       "    <tr>\n",
       "      <th>10215</th>\n",
       "      <td>0.836194</td>\n",
       "      <td>1.000000</td>\n",
       "      <td>0.434057</td>\n",
       "      <td>0.911092</td>\n",
       "      <td>0.933870</td>\n",
       "    </tr>\n",
       "    <tr>\n",
       "      <th>10216</th>\n",
       "      <td>0.309609</td>\n",
       "      <td>0.434057</td>\n",
       "      <td>1.000000</td>\n",
       "      <td>0.322925</td>\n",
       "      <td>0.436113</td>\n",
       "    </tr>\n",
       "    <tr>\n",
       "      <th>10217</th>\n",
       "      <td>0.978823</td>\n",
       "      <td>0.911092</td>\n",
       "      <td>0.322925</td>\n",
       "      <td>1.000000</td>\n",
       "      <td>0.935749</td>\n",
       "    </tr>\n",
       "    <tr>\n",
       "      <th>10218</th>\n",
       "      <td>0.871159</td>\n",
       "      <td>0.933870</td>\n",
       "      <td>0.436113</td>\n",
       "      <td>0.935749</td>\n",
       "      <td>1.000000</td>\n",
       "    </tr>\n",
       "  </tbody>\n",
       "</table>\n",
       "</div>"
      ],
      "text/plain": [
       "          10214     10215     10216     10217     10218\n",
       "10214  1.000000  0.836194  0.309609  0.978823  0.871159\n",
       "10215  0.836194  1.000000  0.434057  0.911092  0.933870\n",
       "10216  0.309609  0.434057  1.000000  0.322925  0.436113\n",
       "10217  0.978823  0.911092  0.322925  1.000000  0.935749\n",
       "10218  0.871159  0.933870  0.436113  0.935749  1.000000"
      ]
     },
     "execution_count": 135,
     "metadata": {},
     "output_type": "execute_result"
    }
   ],
   "source": [
    "cosine_dataframe.head()"
   ]
  },
  {
   "cell_type": "code",
   "execution_count": 136,
   "metadata": {},
   "outputs": [
    {
     "data": {
      "text/html": [
       "<div>\n",
       "<style scoped>\n",
       "    .dataframe tbody tr th:only-of-type {\n",
       "        vertical-align: middle;\n",
       "    }\n",
       "\n",
       "    .dataframe tbody tr th {\n",
       "        vertical-align: top;\n",
       "    }\n",
       "\n",
       "    .dataframe thead th {\n",
       "        text-align: right;\n",
       "    }\n",
       "</style>\n",
       "<table border=\"1\" class=\"dataframe\">\n",
       "  <thead>\n",
       "    <tr style=\"text-align: right;\">\n",
       "      <th></th>\n",
       "      <th>10214</th>\n",
       "      <th>10215</th>\n",
       "      <th>10216</th>\n",
       "      <th>10217</th>\n",
       "      <th>10218</th>\n",
       "    </tr>\n",
       "  </thead>\n",
       "  <tbody>\n",
       "    <tr>\n",
       "      <th>10214</th>\n",
       "      <td>0.000000</td>\n",
       "      <td>0.836194</td>\n",
       "      <td>0.309609</td>\n",
       "      <td>0.978823</td>\n",
       "      <td>0.871159</td>\n",
       "    </tr>\n",
       "    <tr>\n",
       "      <th>10215</th>\n",
       "      <td>0.836194</td>\n",
       "      <td>0.000000</td>\n",
       "      <td>0.434057</td>\n",
       "      <td>0.911092</td>\n",
       "      <td>0.933870</td>\n",
       "    </tr>\n",
       "    <tr>\n",
       "      <th>10216</th>\n",
       "      <td>0.309609</td>\n",
       "      <td>0.434057</td>\n",
       "      <td>0.000000</td>\n",
       "      <td>0.322925</td>\n",
       "      <td>0.436113</td>\n",
       "    </tr>\n",
       "    <tr>\n",
       "      <th>10217</th>\n",
       "      <td>0.978823</td>\n",
       "      <td>0.911092</td>\n",
       "      <td>0.322925</td>\n",
       "      <td>0.000000</td>\n",
       "      <td>0.935749</td>\n",
       "    </tr>\n",
       "    <tr>\n",
       "      <th>10218</th>\n",
       "      <td>0.871159</td>\n",
       "      <td>0.933870</td>\n",
       "      <td>0.436113</td>\n",
       "      <td>0.935749</td>\n",
       "      <td>0.000000</td>\n",
       "    </tr>\n",
       "  </tbody>\n",
       "</table>\n",
       "</div>"
      ],
      "text/plain": [
       "          10214     10215     10216     10217     10218\n",
       "10214  0.000000  0.836194  0.309609  0.978823  0.871159\n",
       "10215  0.836194  0.000000  0.434057  0.911092  0.933870\n",
       "10216  0.309609  0.434057  0.000000  0.322925  0.436113\n",
       "10217  0.978823  0.911092  0.322925  0.000000  0.935749\n",
       "10218  0.871159  0.933870  0.436113  0.935749  0.000000"
      ]
     },
     "execution_count": 136,
     "metadata": {},
     "output_type": "execute_result"
    }
   ],
   "source": [
    "for i in cosine_dataframe.index:\n",
    "    cosine_dataframe.loc[i][i] = 0\n",
    "\n",
    "cosine_dataframe.head()"
   ]
  },
  {
   "cell_type": "code",
   "execution_count": 137,
   "metadata": {},
   "outputs": [
    {
     "data": {
      "text/plain": [
       "10214    0.000000\n",
       "10215    0.836194\n",
       "10216    0.309609\n",
       "10217    0.978823\n",
       "10218    0.871159\n",
       "Name: 10214, dtype: float64"
      ]
     },
     "execution_count": 137,
     "metadata": {},
     "output_type": "execute_result"
    }
   ],
   "source": [
    "cosine_dataframe.loc[10214, :]"
   ]
  },
  {
   "cell_type": "code",
   "execution_count": 143,
   "metadata": {},
   "outputs": [
    {
     "name": "stdout",
     "output_type": "stream",
     "text": [
      "Matching isn't possible..\n",
      "[[10214, 10217], [10215, 10218]]\n"
     ]
    }
   ],
   "source": [
    "test = cosine_dataframe.copy()\n",
    "\n",
    "\n",
    "# prev_index = []\n",
    "# for schoolNumber in labels:\n",
    "#     similairty = test.loc[schoolNumber, :]\n",
    "#     print(similairty)\n",
    "#     while True:\n",
    "#         max_similairty = similairty.idxmax()\n",
    "\n",
    "#         if max_similairty not in prev_index:\n",
    "#             test.loc[schoolNumber, :] = 0\n",
    "#             test.loc[:, schoolNumber] = 0\n",
    "#             prev_index.append(max_similairty)\n",
    "#             break\n",
    "\n",
    "#         test.loc[schoolNumber, max_similairty] = 0\n",
    "#         # print(cosine_dataframe)\n",
    "#         print(max_similairty)\n",
    "\n",
    "# print(prev_index)\n",
    "\n",
    "matching_status = []\n",
    "for schoolNumber in labels:\n",
    "    similairty = test.loc[schoolNumber, :]\n",
    "    \n",
    "    if similairty.max() == 0:\n",
    "        print(\"Matching isn't possible..\")\n",
    "        break\n",
    "    max_similairty = similairty.idxmax()\n",
    "\n",
    "    test.loc[schoolNumber, :] = 0\n",
    "    test.loc[:, schoolNumber] = 0\n",
    "    test.loc[max_similairty, :] = 0\n",
    "    test.loc[:, max_similairty] = 0\n",
    "\n",
    "    matching_status.append([schoolNumber, max_similairty])    \n",
    "\n",
    "print(matching_status)"
   ]
  },
  {
   "cell_type": "code",
   "execution_count": null,
   "metadata": {},
   "outputs": [],
   "source": []
  }
 ],
 "metadata": {
  "kernelspec": {
   "display_name": "mlenv",
   "language": "python",
   "name": "python3"
  },
  "language_info": {
   "codemirror_mode": {
    "name": "ipython",
    "version": 3
   },
   "file_extension": ".py",
   "mimetype": "text/x-python",
   "name": "python",
   "nbconvert_exporter": "python",
   "pygments_lexer": "ipython3",
   "version": "3.9.6"
  },
  "orig_nbformat": 4,
  "vscode": {
   "interpreter": {
    "hash": "9585e0e58f3ada4c387d89b399b9d9bb88b52954ed4e2235f58d5a052e970ed6"
   }
  }
 },
 "nbformat": 4,
 "nbformat_minor": 2
}
