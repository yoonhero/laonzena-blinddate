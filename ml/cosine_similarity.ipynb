{
 "cells": [
  {
   "cell_type": "markdown",
   "metadata": {},
   "source": [
    "# 0. Cosine Similarity\n",
    "\n",
    "$similarity=cos(Θ)=\\frac{A⋅B}{||A||\\ ||B||}=\\frac{\\sum_{i=1}^{n}{A_{i}×B_{i}}}{\\sqrt{\\sum_{i=1}^{n}(A_{i})^2}×\\sqrt{\\sum_{i=1}^{n}(B_{i})^2}}$"
   ]
  },
  {
   "cell_type": "code",
   "execution_count": 44,
   "metadata": {},
   "outputs": [],
   "source": [
    "answers = [[\"남자\", \"여자\"],[\"17살\", \"18살\"],[\"INFP\", \"ENFP\", 'ESFJ', \"ISFJ\", \"ISFP\", \"ESFP\", \"INTP\",\"INFJ\", \"ENFJ\", \"ENTP\", \"ESTJ\", \"ISTJ\", \"INTJ\", \"ISTP\", \"ESTP\", \"ENTJ\"],\n",
    "                [\"A\", \"B\", \"AB\", \"O\"],\n",
    "                [\"한식\", \"양식\", \"중식\", \"일식\"],\n",
    "                 [\"빨강\", \"주황\", \"노랑\", \"초록\", \"파랑\", \"보라\", \"흰색\", \"검은색\"]]"
   ]
  },
  {
   "cell_type": "code",
   "execution_count": 45,
   "metadata": {},
   "outputs": [],
   "source": [
    "import pandas as pd\n",
    "\n",
    "data = pd.read_csv(\"./sample_data.csv\")"
   ]
  },
  {
   "cell_type": "code",
   "execution_count": 46,
   "metadata": {},
   "outputs": [
    {
     "data": {
      "text/html": [
       "<div>\n",
       "<style scoped>\n",
       "    .dataframe tbody tr th:only-of-type {\n",
       "        vertical-align: middle;\n",
       "    }\n",
       "\n",
       "    .dataframe tbody tr th {\n",
       "        vertical-align: top;\n",
       "    }\n",
       "\n",
       "    .dataframe thead th {\n",
       "        text-align: right;\n",
       "    }\n",
       "</style>\n",
       "<table border=\"1\" class=\"dataframe\">\n",
       "  <thead>\n",
       "    <tr style=\"text-align: right;\">\n",
       "      <th></th>\n",
       "      <th>schoolNumber</th>\n",
       "      <th>gender</th>\n",
       "      <th>age</th>\n",
       "      <th>mbti</th>\n",
       "      <th>bloodtype</th>\n",
       "      <th>favoriteFood</th>\n",
       "      <th>favoriteColor</th>\n",
       "    </tr>\n",
       "  </thead>\n",
       "  <tbody>\n",
       "    <tr>\n",
       "      <th>0</th>\n",
       "      <td>10214</td>\n",
       "      <td>남자</td>\n",
       "      <td>17살</td>\n",
       "      <td>ENFJ</td>\n",
       "      <td>B</td>\n",
       "      <td>한식</td>\n",
       "      <td>빨강</td>\n",
       "    </tr>\n",
       "    <tr>\n",
       "      <th>1</th>\n",
       "      <td>10215</td>\n",
       "      <td>남자</td>\n",
       "      <td>17살</td>\n",
       "      <td>INFJ</td>\n",
       "      <td>A</td>\n",
       "      <td>중식</td>\n",
       "      <td>파랑</td>\n",
       "    </tr>\n",
       "    <tr>\n",
       "      <th>2</th>\n",
       "      <td>10216</td>\n",
       "      <td>여자</td>\n",
       "      <td>18살</td>\n",
       "      <td>ENFP</td>\n",
       "      <td>B</td>\n",
       "      <td>일식</td>\n",
       "      <td>빨강</td>\n",
       "    </tr>\n",
       "    <tr>\n",
       "      <th>3</th>\n",
       "      <td>10217</td>\n",
       "      <td>남자</td>\n",
       "      <td>18살</td>\n",
       "      <td>ENTJ</td>\n",
       "      <td>AB</td>\n",
       "      <td>한식</td>\n",
       "      <td>초록</td>\n",
       "    </tr>\n",
       "    <tr>\n",
       "      <th>4</th>\n",
       "      <td>10218</td>\n",
       "      <td>여자</td>\n",
       "      <td>17살</td>\n",
       "      <td>ENFJ</td>\n",
       "      <td>O</td>\n",
       "      <td>양식</td>\n",
       "      <td>파랑</td>\n",
       "    </tr>\n",
       "  </tbody>\n",
       "</table>\n",
       "</div>"
      ],
      "text/plain": [
       "   schoolNumber gender   age  mbti  bloodtype  favoriteFood  favoriteColor\n",
       "0         10214     남자   17살  ENFJ          B            한식             빨강\n",
       "1         10215     남자   17살  INFJ          A            중식             파랑\n",
       "2         10216     여자   18살  ENFP          B            일식             빨강\n",
       "3         10217     남자   18살  ENTJ         AB            한식             초록\n",
       "4         10218     여자   17살  ENFJ          O            양식             파랑"
      ]
     },
     "execution_count": 46,
     "metadata": {},
     "output_type": "execute_result"
    }
   ],
   "source": [
    "data.head()"
   ]
  },
  {
   "cell_type": "code",
   "execution_count": 47,
   "metadata": {},
   "outputs": [],
   "source": [
    "# Can bias differ the cosine similarity?\n",
    "def get_index(df):\n",
    "    indexes = []\n",
    "    for i, answer in enumerate(answers):\n",
    "        no_blank_ele = df[i].strip()\n",
    "        temp_i = answer.index(no_blank_ele)    \n",
    "        biased_i = temp_i * (1000-200*i)    \n",
    "        indexes.append(biased_i)\n",
    "\n",
    "    return indexes"
   ]
  },
  {
   "cell_type": "code",
   "execution_count": 48,
   "metadata": {},
   "outputs": [],
   "source": [
    "labels = data.iloc[:, 0]\n",
    "index_dataframe = data.iloc[:, 1:].apply(get_index, axis=1)"
   ]
  },
  {
   "cell_type": "code",
   "execution_count": 49,
   "metadata": {},
   "outputs": [],
   "source": [
    "import numpy as np\n",
    "from numpy import dot\n",
    "from numpy.linalg import norm\n",
    "\n",
    "def cos_sim(A, B):\n",
    "  return dot(A, B)/(norm(A)*norm(B))"
   ]
  },
  {
   "cell_type": "code",
   "execution_count": 50,
   "metadata": {},
   "outputs": [],
   "source": [
    "cosine_similarity_matrix = np.array([[cos_sim(np.array(index_dataframe[a]), np.array(index_dataframe[b])) for a in range(len(index_dataframe))] for b in range(len(index_dataframe))])"
   ]
  },
  {
   "cell_type": "code",
   "execution_count": 51,
   "metadata": {},
   "outputs": [
    {
     "data": {
      "text/plain": [
       "array([[1.        , 0.99205679, 0.39758439, 0.9960881 , 0.9666138 ],\n",
       "       [0.99205679, 1.        , 0.41209639, 0.98772184, 0.94964256],\n",
       "       [0.39758439, 0.41209639, 1.        , 0.441682  , 0.55864692],\n",
       "       [0.9960881 , 0.98772184, 0.441682  , 1.        , 0.9636994 ],\n",
       "       [0.9666138 , 0.94964256, 0.55864692, 0.9636994 , 1.        ]])"
      ]
     },
     "execution_count": 51,
     "metadata": {},
     "output_type": "execute_result"
    }
   ],
   "source": [
    "cosine_similarity_matrix"
   ]
  },
  {
   "cell_type": "code",
   "execution_count": 52,
   "metadata": {},
   "outputs": [],
   "source": [
    "def visualize_cosine_similarity(matrix):\n",
    "    h, w = matrix.shape\n",
    "\n",
    "    for h_ in range(h):\n",
    "        for w_ in range(w):\n",
    "            print(matrix[h_][w_], end=\" \")\n",
    "        print(\"\\n\")"
   ]
  },
  {
   "cell_type": "code",
   "execution_count": 53,
   "metadata": {},
   "outputs": [
    {
     "name": "stdout",
     "output_type": "stream",
     "text": [
      "0.9999999999999999 0.9920567905654849 0.39758438636375143 0.9960881023042134 0.9666137973731176 \n",
      "\n",
      "0.9920567905654849 1.0 0.412096390413668 0.9877218409080568 0.9496425641327126 \n",
      "\n",
      "0.39758438636375143 0.412096390413668 1.0 0.44168200311359274 0.5586469198446351 \n",
      "\n",
      "0.9960881023042134 0.9877218409080568 0.44168200311359274 1.0000000000000002 0.9636993990976406 \n",
      "\n",
      "0.9666137973731176 0.9496425641327126 0.5586469198446351 0.9636993990976406 0.9999999999999999 \n",
      "\n"
     ]
    }
   ],
   "source": [
    "visualize_cosine_similarity(cosine_similarity_matrix)"
   ]
  },
  {
   "cell_type": "code",
   "execution_count": 54,
   "metadata": {},
   "outputs": [
    {
     "data": {
      "text/plain": [
       "0    10214\n",
       "1    10215\n",
       "2    10216\n",
       "3    10217\n",
       "4    10218\n",
       "dtype: int64"
      ]
     },
     "execution_count": 54,
     "metadata": {},
     "output_type": "execute_result"
    }
   ],
   "source": [
    "\n",
    "labels.rename(None, inplace=True)"
   ]
  },
  {
   "cell_type": "code",
   "execution_count": 55,
   "metadata": {},
   "outputs": [],
   "source": [
    "cosine_dataframe = pd.DataFrame(cosine_similarity_matrix, columns=labels, index=labels)"
   ]
  },
  {
   "cell_type": "code",
   "execution_count": 60,
   "metadata": {},
   "outputs": [
    {
     "data": {
      "text/html": [
       "<div>\n",
       "<style scoped>\n",
       "    .dataframe tbody tr th:only-of-type {\n",
       "        vertical-align: middle;\n",
       "    }\n",
       "\n",
       "    .dataframe tbody tr th {\n",
       "        vertical-align: top;\n",
       "    }\n",
       "\n",
       "    .dataframe thead th {\n",
       "        text-align: right;\n",
       "    }\n",
       "</style>\n",
       "<table border=\"1\" class=\"dataframe\">\n",
       "  <thead>\n",
       "    <tr style=\"text-align: right;\">\n",
       "      <th></th>\n",
       "      <th>10214</th>\n",
       "      <th>10215</th>\n",
       "      <th>10216</th>\n",
       "      <th>10217</th>\n",
       "      <th>10218</th>\n",
       "    </tr>\n",
       "  </thead>\n",
       "  <tbody>\n",
       "    <tr>\n",
       "      <th>10214</th>\n",
       "      <td>0.000000</td>\n",
       "      <td>0.992057</td>\n",
       "      <td>0.397584</td>\n",
       "      <td>0.996088</td>\n",
       "      <td>0.966614</td>\n",
       "    </tr>\n",
       "    <tr>\n",
       "      <th>10215</th>\n",
       "      <td>0.992057</td>\n",
       "      <td>0.000000</td>\n",
       "      <td>0.412096</td>\n",
       "      <td>0.987722</td>\n",
       "      <td>0.949643</td>\n",
       "    </tr>\n",
       "    <tr>\n",
       "      <th>10216</th>\n",
       "      <td>0.397584</td>\n",
       "      <td>0.412096</td>\n",
       "      <td>0.000000</td>\n",
       "      <td>0.441682</td>\n",
       "      <td>0.558647</td>\n",
       "    </tr>\n",
       "    <tr>\n",
       "      <th>10217</th>\n",
       "      <td>0.996088</td>\n",
       "      <td>0.987722</td>\n",
       "      <td>0.441682</td>\n",
       "      <td>0.000000</td>\n",
       "      <td>0.963699</td>\n",
       "    </tr>\n",
       "    <tr>\n",
       "      <th>10218</th>\n",
       "      <td>0.966614</td>\n",
       "      <td>0.949643</td>\n",
       "      <td>0.558647</td>\n",
       "      <td>0.963699</td>\n",
       "      <td>0.000000</td>\n",
       "    </tr>\n",
       "  </tbody>\n",
       "</table>\n",
       "</div>"
      ],
      "text/plain": [
       "          10214     10215     10216     10217     10218\n",
       "10214  0.000000  0.992057  0.397584  0.996088  0.966614\n",
       "10215  0.992057  0.000000  0.412096  0.987722  0.949643\n",
       "10216  0.397584  0.412096  0.000000  0.441682  0.558647\n",
       "10217  0.996088  0.987722  0.441682  0.000000  0.963699\n",
       "10218  0.966614  0.949643  0.558647  0.963699  0.000000"
      ]
     },
     "execution_count": 60,
     "metadata": {},
     "output_type": "execute_result"
    }
   ],
   "source": [
    "cosine_dataframe.head(10)"
   ]
  },
  {
   "cell_type": "code",
   "execution_count": 57,
   "metadata": {},
   "outputs": [
    {
     "data": {
      "text/html": [
       "<div>\n",
       "<style scoped>\n",
       "    .dataframe tbody tr th:only-of-type {\n",
       "        vertical-align: middle;\n",
       "    }\n",
       "\n",
       "    .dataframe tbody tr th {\n",
       "        vertical-align: top;\n",
       "    }\n",
       "\n",
       "    .dataframe thead th {\n",
       "        text-align: right;\n",
       "    }\n",
       "</style>\n",
       "<table border=\"1\" class=\"dataframe\">\n",
       "  <thead>\n",
       "    <tr style=\"text-align: right;\">\n",
       "      <th></th>\n",
       "      <th>10214</th>\n",
       "      <th>10215</th>\n",
       "      <th>10216</th>\n",
       "      <th>10217</th>\n",
       "      <th>10218</th>\n",
       "    </tr>\n",
       "  </thead>\n",
       "  <tbody>\n",
       "    <tr>\n",
       "      <th>10214</th>\n",
       "      <td>0.000000</td>\n",
       "      <td>0.992057</td>\n",
       "      <td>0.397584</td>\n",
       "      <td>0.996088</td>\n",
       "      <td>0.966614</td>\n",
       "    </tr>\n",
       "    <tr>\n",
       "      <th>10215</th>\n",
       "      <td>0.992057</td>\n",
       "      <td>0.000000</td>\n",
       "      <td>0.412096</td>\n",
       "      <td>0.987722</td>\n",
       "      <td>0.949643</td>\n",
       "    </tr>\n",
       "    <tr>\n",
       "      <th>10216</th>\n",
       "      <td>0.397584</td>\n",
       "      <td>0.412096</td>\n",
       "      <td>0.000000</td>\n",
       "      <td>0.441682</td>\n",
       "      <td>0.558647</td>\n",
       "    </tr>\n",
       "    <tr>\n",
       "      <th>10217</th>\n",
       "      <td>0.996088</td>\n",
       "      <td>0.987722</td>\n",
       "      <td>0.441682</td>\n",
       "      <td>0.000000</td>\n",
       "      <td>0.963699</td>\n",
       "    </tr>\n",
       "    <tr>\n",
       "      <th>10218</th>\n",
       "      <td>0.966614</td>\n",
       "      <td>0.949643</td>\n",
       "      <td>0.558647</td>\n",
       "      <td>0.963699</td>\n",
       "      <td>0.000000</td>\n",
       "    </tr>\n",
       "  </tbody>\n",
       "</table>\n",
       "</div>"
      ],
      "text/plain": [
       "          10214     10215     10216     10217     10218\n",
       "10214  0.000000  0.992057  0.397584  0.996088  0.966614\n",
       "10215  0.992057  0.000000  0.412096  0.987722  0.949643\n",
       "10216  0.397584  0.412096  0.000000  0.441682  0.558647\n",
       "10217  0.996088  0.987722  0.441682  0.000000  0.963699\n",
       "10218  0.966614  0.949643  0.558647  0.963699  0.000000"
      ]
     },
     "execution_count": 57,
     "metadata": {},
     "output_type": "execute_result"
    }
   ],
   "source": [
    "for i in cosine_dataframe.index:\n",
    "    cosine_dataframe.loc[i][i] = 0\n",
    "\n",
    "cosine_dataframe.head()"
   ]
  },
  {
   "cell_type": "code",
   "execution_count": 58,
   "metadata": {},
   "outputs": [
    {
     "data": {
      "text/plain": [
       "10214    0.000000\n",
       "10215    0.992057\n",
       "10216    0.397584\n",
       "10217    0.996088\n",
       "10218    0.966614\n",
       "Name: 10214, dtype: float64"
      ]
     },
     "execution_count": 58,
     "metadata": {},
     "output_type": "execute_result"
    }
   ],
   "source": [
    "cosine_dataframe.loc[10214, :]"
   ]
  },
  {
   "cell_type": "code",
   "execution_count": 61,
   "metadata": {},
   "outputs": [
    {
     "name": "stdout",
     "output_type": "stream",
     "text": [
      "Matching isn't possible..\n",
      "Matching isn't possible..\n",
      "Matching isn't possible..\n",
      "[[10214, 10217], [10215, 10218]]\n"
     ]
    }
   ],
   "source": [
    "test = cosine_dataframe.copy()\n",
    "\n",
    "\n",
    "# prev_index = []\n",
    "# for schoolNumber in labels:\n",
    "#     similairty = test.loc[schoolNumber, :]\n",
    "#     print(similairty)\n",
    "#     while True:\n",
    "#         max_similairty = similairty.idxmax()\n",
    "\n",
    "#         if max_similairty not in prev_index:\n",
    "#             test.loc[schoolNumber, :] = 0\n",
    "#             test.loc[:, schoolNumber] = 0\n",
    "#             prev_index.append(max_similairty)\n",
    "#             break\n",
    "\n",
    "#         test.loc[schoolNumber, max_similairty] = 0\n",
    "#         # print(cosine_dataframe)\n",
    "#         print(max_similairty)\n",
    "\n",
    "# print(prev_index)\n",
    "\n",
    "matching_status = []\n",
    "for schoolNumber in labels:\n",
    "    similairty = test.loc[schoolNumber, :]\n",
    "    \n",
    "    if similairty.max() == 0:\n",
    "        print(\"Matching isn't possible..\")\n",
    "        continue\n",
    "    max_similairty = similairty.idxmax()\n",
    "\n",
    "    test.loc[schoolNumber, :] = 0\n",
    "    test.loc[:, schoolNumber] = 0\n",
    "    test.loc[max_similairty, :] = 0\n",
    "    test.loc[:, max_similairty] = 0\n",
    "\n",
    "    matching_status.append([schoolNumber, max_similairty])    \n",
    "\n",
    "print(matching_status)"
   ]
  },
  {
   "cell_type": "code",
   "execution_count": null,
   "metadata": {},
   "outputs": [],
   "source": []
  }
 ],
 "metadata": {
  "kernelspec": {
   "display_name": "mlenv",
   "language": "python",
   "name": "python3"
  },
  "language_info": {
   "codemirror_mode": {
    "name": "ipython",
    "version": 3
   },
   "file_extension": ".py",
   "mimetype": "text/x-python",
   "name": "python",
   "nbconvert_exporter": "python",
   "pygments_lexer": "ipython3",
   "version": "3.9.6"
  },
  "orig_nbformat": 4,
  "vscode": {
   "interpreter": {
    "hash": "9585e0e58f3ada4c387d89b399b9d9bb88b52954ed4e2235f58d5a052e970ed6"
   }
  }
 },
 "nbformat": 4,
 "nbformat_minor": 2
}
